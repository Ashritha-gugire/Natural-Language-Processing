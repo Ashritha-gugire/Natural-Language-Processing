{
 "cells": [
  {
   "cell_type": "code",
   "execution_count": 30,
   "id": "93ea5d64",
   "metadata": {},
   "outputs": [],
   "source": [
    "import spacy\n",
    "import wikipedia\n",
    "import random\n",
    "# Load spaCy's\n",
    "nlp = spacy.load(\"en_core_web_sm\")"
   ]
  },
  {
   "cell_type": "code",
   "execution_count": 31,
   "id": "7a8a36e3",
   "metadata": {},
   "outputs": [],
   "source": [
    "# Define answer patterns for different question types\n",
    "answer_patterns = {\n",
    "    \"who\": [\n",
    "        \"The person you asked about is {description}.\",\n",
    "        \"{} is known for {description}.\",\n",
    "        \"{subject} is famous for {description}.\"\n",
    "    ],\n",
    "    \"what\": [\n",
    "        \"is {description}.\",\n",
    "        \"{description} is related to {subject}.\",\n",
    "        \"In brief, {subject} {description}.\"\n",
    "    ],\n",
    "    \"when\": [\n",
    "        \"was built {description}.\",\n",
    "        \"{description} marks the construction of {subject}.\",\n",
    "        \"{subject} dates back to {description}.\"\n",
    "    ],\n",
    "    \"where\": [\n",
    "        \"{subject} is located in {location}.\",\n",
    "        \"{subject} can be found in {location}.\",\n",
    "        \"{subject} is situated in {location}.\"\n",
    "    ]\n",
    "}\n"
   ]
  },
  {
   "cell_type": "code",
   "execution_count": 32,
   "id": "7d312f28",
   "metadata": {},
   "outputs": [
    {
     "data": {
      "text/plain": [
       "' Here the outputs returned are \"question type\" : it is a string which determines the question type.(like who, what, when, where or none)\\nsecond one is \"search query\" :geneerated from the extracted keywords in the question. ,this can be used for further processing'"
      ]
     },
     "execution_count": 32,
     "metadata": {},
     "output_type": "execute_result"
    }
   ],
   "source": [
    "#processing the question and determining the question types.\n",
    "\n",
    "'''This function takes a question(#input) as a string  and returns two outputs: \n",
    "   that are 1) question type and 2) a search quesry '''\n",
    "\n",
    "def process_question(question):\n",
    "    doc = nlp(question)\n",
    "    question_type = None\n",
    "    keywords = []\n",
    "\n",
    "    # Determine question type based on the first word\n",
    "    if doc[0].text.lower() in ['who', 'what', 'when', 'where']:\n",
    "        question_type = doc[0].text.lower()\n",
    "    \n",
    "    # Here we tried to extract entities and nouns as keywords such that noun will be our first word in our answer\n",
    "    # Entities like (persons or organizations ,..etc) and nouns are extrcted from the question given to generate the keywords.\n",
    "    # the search query is formed from this extracted keywords by joining these keywords.\n",
    "    for ent in doc.ents:\n",
    "        keywords.append(ent.text)\n",
    "    for token in doc:\n",
    "        if token.pos_ in ['NOUN', 'PROPN'] and token.text not in keywords:\n",
    "            keywords.append(token.text)\n",
    "    search_query = ' '.join(keywords)\n",
    "    return question_type, search_query\n",
    "\n",
    "#Here the outputs returned are \"question type\" : it is a string which determines the question type.(like who, what, when, where or none)\n",
    "#second one is \"search query\" :geneerated from the extracted keywords in the question. ,this can be used for further processing'''"
   ]
  },
  {
   "cell_type": "code",
   "execution_count": 33,
   "id": "070e69f1",
   "metadata": {},
   "outputs": [],
   "source": [
    "# Search for the question in wikipidieia and retrieve the answer based on the given question type\n",
    "# It basically deals with accessing external information sources to retrieve answers.\n",
    "# It utilizes wikipidiea library to interact with the wikipidiea api and retrieve information.\n",
    "\n",
    "## This function takes question string as input and returns answer fetched from wikipedia or appropriate message if it is unable to fetch any answer.\n",
    "def answer_question(question):\n",
    "    question_type, search_query = process_question(question)\n",
    "    if not question_type:\n",
    "        return \"Sorry, I don't know the answer for that type of question.\"\n",
    "    \n",
    "    if search_query.strip() == \"\":\n",
    "        return \"Please provide a valid search query.\"\n",
    "\n",
    "## In here if the question type cannot be determined or if search query is empty, then respective error message is return.\n",
    "\n",
    "    try:\n",
    "        page_summary = wikipedia.summary(search_query, sentences=1)\n",
    "        return page_summary\n",
    "        #return page_summary\n",
    "    except wikipedia.exceptions.DisambiguationError as e:\n",
    "        return f\"Ambiguous search query. Possible options: {', '.join(e.options)}\"\n",
    "    except wikipedia.exceptions.PageError:\n",
    "        return \"Sorry, Page not found\"\n",
    "    \n",
    "## It then attempts to retrieve a summary of that wikipedia page corresponding to the query using \"wikipedia.summary\".\n",
    "## A special feature if search query is ambiguous, the function returns a list of all possible options.[Disambiguation error]\n",
    "## Finally if no relevant page or answer is found, it returns page not found error message[Page error]."
   ]
  },
  {
   "cell_type": "code",
   "execution_count": 34,
   "id": "39a7ff27",
   "metadata": {},
   "outputs": [],
   "source": [
    "#Retrieve the answer specifically using written answer patterns\n",
    "\n",
    "def extract_answer_using_patterns(question):\n",
    "    question_type, search_query = process_question(question)\n",
    "    if not question_type:\n",
    "        return \"Sorry, I don't know the answer.\"\n",
    "    \n",
    "    if question_type not in answer_patterns:\n",
    "        return \"Sorry, I don't have answer patterns for that question type.\"\n",
    "    \n",
    "## If the question type cannot be determined or if there is no answer patterns avialable for that type, the respective error messages are returned\n",
    "# if not \n",
    "    answer_pattern = random.choice(answer_patterns[question_type])\n",
    "## It selects a random answer pattern from the predefined patterns \n",
    "\n",
    "    # Extracting subject from the question\n",
    "    subject = search_query.split(\"who is\"| \"who was\")[-1].strip(\"?\") if question_type == \"who\" else \\\n",
    "              search_query.split(\"what is\"| \"what did\")[-1].strip(\"?\") if question_type == \"what\" else \\\n",
    "              search_query.split(\"when was\" | \"when did\")[-1].strip(\"?\") if question_type == \"when\" else \\\n",
    "              search_query.split(\"where is\")[-1].strip(\"?\")\n",
    "    \n",
    "    return answer_pattern.format(subject=subject, description=page_summary)\n",
    "## The it extracts the subject fromt the question(eg.. persons name or location..etc)\n",
    "##Fills the selected answer pattern witht the extracted subject and additional information if available."
   ]
  },
  {
   "cell_type": "code",
   "execution_count": 35,
   "id": "8982b6c3",
   "metadata": {},
   "outputs": [
    {
     "name": "stdout",
     "output_type": "stream",
     "text": [
      "THIS IS A QA-SYSTEM created by Team#05.\n",
      "It will try to answer questions that start with Who, What, When, or Where.\n",
      "Enter 'exit' to leave the program.\n",
      "Question :what is natural language processing?\n",
      " Answer : Natural language processing (NLP) is an interdisciplinary subfield of computer science and linguistics.\n",
      "Question :What is meant by Serendipity?\n",
      " Answer : Serendipity is an unplanned fortunate discovery.\n",
      "Question :what is population?\n",
      " Answer : Population is the term typically used to refer to the number of people in a single area.\n",
      "Question :what is an adjective?\n",
      " Answer : An adjective (abbreviated adj.) is a word that describes or defines a noun or noun phrase.\n",
      "Question :where is Charminar located? \n",
      " Answer : The Charminar (lit. 'four minarets') is a monument located in Hyderabad, Telangana, India.\n",
      "Question :where is United States of America?\n",
      " Answer : The United States of America (USA or U.S.A.), commonly known as the United States (US or U.S.) or America, is a country primarily located in North America, between Canada and Mexico.\n",
      "Question :who is spiderman?\n",
      " Answer : Spider-Man is a superhero appearing in American comic books published by Marvel Comics.\n",
      "Question :Who is Elon Musk?\n",
      " Answer : Elon Reeve Musk (; EE-lon; born June 28, 1971) is a businessman and investor.\n",
      "Question :who produced iphone?\n",
      " Answer : The iPhone is a line of smartphones produced by Apple Inc.\n",
      "Question :who was Apollo 11?\n",
      " Answer : Apollo 11 (July 16–24, 1969) was the American spaceflight that first landed humans on the Moon.\n",
      "Question :what is carbondioxide?\n",
      " Answer : Carbon dioxide is a chemical compound with the chemical formula CO2.\n",
      "Question :Where was Albert Einstein born?\n",
      " Answer : Albert Einstein (1879–1955), a German-born scientist, was predominantly known during his lifetime for his development of the theory of relativity, his contributions to quantum mechanics, and many other notable achievements in modern physics.\n",
      "Question :when did Berlin Wall fall?\n",
      " Answer : Sorry, Page not found\n",
      "Question :where is george mason university?\n",
      " Answer : George Mason University (George Mason, Mason, or GMU) is a public research university in Fairfax County, Virginia near Washington, D.C. The university was originally founded as the Northern Virginia University Center of the University of Virginia in 1949 as an extension school and regional branch of the University of Virginia for mid-career working professionals and non-traditional students in Northern Virginia and the Washington, D.C. Metropolitan Area.\n",
      "Question :who is Charles babage?\n",
      " Answer : Charles Babbage  (; 26 December 1791 – 18 October 1871) was an English polymath.\n",
      "Question :what is a telephone?\n",
      " Answer : A telephone is a telecommunications device that permits two or more users to conduct a conversation when they are too far apart to be easily heard directly.\n",
      "Question :what is a bat?\n",
      " Answer : A bay is a recessed, coastal body of water that directly connects to a larger main body of water, such as an ocean, a lake, or another bay.\n",
      "Question :When did the Titanic sink?\n",
      " Answer : RMS Titanic sank in the early morning hours of 15 April 1912 in the North Atlantic Ocean, four days into her maiden voyage from Southampton to New York City.\n",
      "Question :who discovered india?\n",
      " Answer : Ambiguous search query. Possible options: Indian people, Non-resident Indian, South Asian ethnic groups, Anglo-Indians, Bombay East Indians, British Indians, Indo-Canadians, Indo-Caribbean, Indo-Trinidadian and Tobagonian, Indo-Guyanese, Indo-Surinamese, Indo-Jamaican, Indian Americans, Indigenous peoples of the Americas, Plains Indians, Native Americans in the United States, Native American tribes, Indigenous peoples in Canada, First Nations in Canada, Indigenous peoples of South America, Native Mexicans, Indigenous peoples of Central America, Indigenous peoples of the Caribbean, West Indians, Mardi Gras Indians, Aboriginal Australians, Indian Australians, Languages of India, Indian English, Indigenous languages of the Americas, Indian, West Virginia, The Indians, Indian Creek (disambiguation), Indian Island (disambiguation), Indian Peak, Indian River (disambiguation), Indian Run (disambiguation), Indian subcontinent, Indian Ocean, Indian cinema, Indian (1996 film), Indian 2, Indian (2001 film), Indians (musician), \"Indian\" (song), Indian (soundtrack), \"Indians\" (song), Gojira, Indian (card game), Indian soap opera, Indians (play), Indians (sculpture), Indian (airline), Indian Motocycle Manufacturing Company, Akwesasne Indians, Calcutta Indians, Cleveland Indians, Frölunda HC, Hannover Indians, Indian Arrows, Indianapolis Indians, Indios de Mayagüez, Mumbai Indians, Springfield Indians, Indian cuisine, Indian Head cent, All pages with titles beginning with Indian, All pages with titles containing Indian, Hindustani (disambiguation), Indica (disambiguation), Indian Point (disambiguation), India (disambiguation), Indicum (disambiguation), Indicus (disambiguation), Indo (disambiguation), Indio (disambiguation), Indus (disambiguation), Indus (constellation), American Indians (disambiguation), Native American name controversy, Indies (disambiguation), East Indies (disambiguation), West Indies (disambiguation), Indiana (disambiguation)\n",
      "Question :exit\n",
      "Thank you! Goodbye.\n"
     ]
    }
   ],
   "source": [
    "# Display Message \n",
    "print(\"THIS IS A QA-SYSTEM created by Team#05.\\n\" \n",
    "      \"It will try to answer questions that start with Who, What, When, or Where.\\n\" \n",
    "      \"Enter 'exit' to leave the program.\")\n",
    "## Loops interactively\n",
    "while True:\n",
    "    user_input = input(\"Question :\")\n",
    "    if user_input.lower() == \"exit\":\n",
    "        print(\"Thank you! Goodbye.\")\n",
    "        break\n",
    "    print(\" Answer :\", answer_question(user_input))\n"
   ]
  }
 ],
 "metadata": {
  "kernelspec": {
   "display_name": "Python 3 (ipykernel)",
   "language": "python",
   "name": "python3"
  },
  "language_info": {
   "codemirror_mode": {
    "name": "ipython",
    "version": 3
   },
   "file_extension": ".py",
   "mimetype": "text/x-python",
   "name": "python",
   "nbconvert_exporter": "python",
   "pygments_lexer": "ipython3",
   "version": "3.10.9"
  }
 },
 "nbformat": 4,
 "nbformat_minor": 5
}
